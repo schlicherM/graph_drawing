{
 "cells": [
  {
   "cell_type": "code",
   "execution_count": 1,
   "id": "76f85507-5a37-4726-840f-85f4f86645c1",
   "metadata": {},
   "outputs": [
    {
     "name": "stdout",
     "output_type": "stream",
     "text": [
      "Filtered data has been written to './public/filtered_data.json'.\n"
     ]
    }
   ],
   "source": [
    "import json\n",
    "\n",
    "# Define the threshold year\n",
    "threshold_year = 1990\n",
    "\n",
    "# Load the JSON data from the file\n",
    "with open('./public/data.json', 'r') as file:\n",
    "    data = json.load(file)\n",
    "\n",
    "# Function to filter \"attr\" field within \"links\" and remove empty \"attr\" links\n",
    "def filter_and_clean_links(links_list, threshold):\n",
    "    cleaned_links = []\n",
    "    for link in links_list:\n",
    "        if \"attr\" in link:\n",
    "            # Filter the \"attr\" list\n",
    "            link[\"attr\"] = [item for item in link[\"attr\"] if int(item.get(\"year\", 0)) >= threshold]\n",
    "            # Only add link if \"attr\" is not empty\n",
    "            if link[\"attr\"]:\n",
    "                cleaned_links.append(link)\n",
    "    return cleaned_links\n",
    "\n",
    "# Function to clean nodes that have a \"noc\" field and no \"attr: target:\" to this value\n",
    "def clean_nodes(nodes_list, links_list):\n",
    "    valid_targets = {link[\"target\"] for link in links_list}\n",
    "    cleaned_nodes = [node for node in nodes_list if \"noc\" not in node or node[\"noc\"] in valid_targets]\n",
    "    return cleaned_nodes\n",
    "\n",
    "# Apply the filter and clean up \"links\"\n",
    "if \"links\" in data:\n",
    "    data[\"links\"] = filter_and_clean_links(data[\"links\"], threshold_year)\n",
    "\n",
    "# Clean up \"nodes\"\n",
    "if \"nodes\" in data and \"links\" in data:\n",
    "    data[\"nodes\"] = clean_nodes(data[\"nodes\"], data[\"links\"])\n",
    "\n",
    "# Write the filtered data back to a new JSON file\n",
    "output_file = './public/filtered_data.json'\n",
    "with open(output_file, 'w') as file:\n",
    "    json.dump(data, file, indent=4)\n",
    "\n",
    "print(f\"Filtered data has been written to '{output_file}'.\")\n"
   ]
  },
  {
   "cell_type": "code",
   "execution_count": null,
   "id": "bc98740a-be0a-4530-b26b-5d400de79d0b",
   "metadata": {},
   "outputs": [],
   "source": []
  }
 ],
 "metadata": {
  "kernelspec": {
   "display_name": "Python 3 (ipykernel)",
   "language": "python",
   "name": "python3"
  },
  "language_info": {
   "codemirror_mode": {
    "name": "ipython",
    "version": 3
   },
   "file_extension": ".py",
   "mimetype": "text/x-python",
   "name": "python",
   "nbconvert_exporter": "python",
   "pygments_lexer": "ipython3",
   "version": "3.10.11"
  }
 },
 "nbformat": 4,
 "nbformat_minor": 5
}
